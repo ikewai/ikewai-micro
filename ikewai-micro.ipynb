{
 "cells": [
  {
   "cell_type": "code",
   "execution_count": null,
   "metadata": {},
   "outputs": [],
   "source": [
    "import requests\n",
    "import json\n",
    "import urllib\n",
    "import  urllib.parse\n",
    "import pandas as pd\n",
    "import getpass\n",
    "from requests.auth import HTTPBasicAuth\n",
    "\n",
    "token = ''"
   ]
  },
  {
   "cell_type": "code",
   "execution_count": null,
   "metadata": {},
   "outputs": [],
   "source": [
    "from ikewaipy.ikewai import Ikewai"
   ]
  },
  {
   "cell_type": "code",
   "execution_count": null,
   "metadata": {},
   "outputs": [],
   "source": [
    "#Setup a client object for connecting to Ike Wai so we can get auth token\n",
    "ike = Ikewai(username='seanbc')"
   ]
  },
  {
   "cell_type": "code",
   "execution_count": null,
   "metadata": {},
   "outputs": [],
   "source": [
    "#login with your UH credentials\n",
    "ike.login()"
   ]
  },
  {
   "cell_type": "code",
   "execution_count": null,
   "metadata": {},
   "outputs": [],
   "source": [
    "#this is how we access our Auth Token\n",
    "ike.token\n",
    "#set a global var for the endpoint for use in the functions defined within this notebook\n",
    "endpoint=ike.endpoint.split('//')[1]"
   ]
  },
  {
   "cell_type": "code",
   "execution_count": null,
   "metadata": {},
   "outputs": [],
   "source": [
    "#This is how we use the ikewaipy search for JSON metadata objects - similiar to listMetadata\n",
    "ike.searchMetadata(\"{'name':'Variable','value.variable_name':'Temperature'}\", 1)"
   ]
  },
  {
   "cell_type": "code",
   "execution_count": null,
   "metadata": {},
   "outputs": [],
   "source": [
    "#HTTP REST call to meta API with a mongo style query\n",
    "def listMetadata(token, query=\"\", limit=10, offset=0):\n",
    "    safe_query = urllib.parse.quote(query.encode('utf8'))\n",
    "    headers = {\n",
    "        'authorization': \"Bearer \" + token,\n",
    "        'content-type': \"application/json\",\n",
    "    }\n",
    "    res = requests.get('https://'+endpoint+'/meta/v2/data?q='+safe_query+'&limit='+str(limit)+'&offset='+str(offset), headers=headers,verify=False)\n",
    "    resp = json.loads(res.content)\n",
    "    return resp['result']"
   ]
  },
  {
   "cell_type": "code",
   "execution_count": null,
   "metadata": {},
   "outputs": [],
   "source": [
    "#HTTP API call to meta to fetch a single metadata JSON document by it's uuid\n",
    "def getMetadata(token, uuid):\n",
    "    headers = {\n",
    "        'authorization': \"Bearer \" + token,\n",
    "        'content-type': \"application/json\",\n",
    "    }\n",
    "    res = requests.get('https://'+endpoint+'/meta/v2/data/'+uuid, headers=headers,verify=False)\n",
    "    resp = json.loads(res.content)\n",
    "    return resp['result']"
   ]
  },
  {
   "cell_type": "code",
   "execution_count": null,
   "metadata": {},
   "outputs": [],
   "source": [
    "#HTTPS API call to update an existing metadata JSON document - note you have to pass every field as this is not a PATCH\n",
    "def updateMetadata(token, uuid, data):\n",
    "    headers = {\n",
    "        'authorization': \"Bearer \" + token,\n",
    "        'content-type': \"application/json\",\n",
    "    }\n",
    "    res = requests.post('https://'+endpoint+'/meta/v2/data/'+uuid, json=data, headers=headers,verify=False)\n",
    "    resp = json.loads(res.content)\n",
    "    return resp"
   ]
  },
  {
   "cell_type": "code",
   "execution_count": null,
   "metadata": {},
   "outputs": [],
   "source": [
    "#CREATE a new metadata document\n",
    "def createMetadata(token, data):\n",
    "    headers = {\n",
    "        'authorization': \"Bearer \" + token,\n",
    "        'content-type': \"application/json\",\n",
    "    }\n",
    "    res = requests.post('https://'+endpoint+'/meta/v2/data/', json=json.loads(data), headers=headers,verify=False)\n",
    "    print(res.content)\n",
    "    resp = json.loads(res.content)\n",
    "    return resp"
   ]
  },
  {
   "cell_type": "code",
   "execution_count": null,
   "metadata": {},
   "outputs": [],
   "source": [
    "#permission needs to be READ READ-WRITE or ALL\n",
    "def updateMetadataPem(token, uuid, username, permission):\n",
    "    headers = {\n",
    "        'authorization': \"Bearer \" + token,\n",
    "        'content-type': \"application/json\",\n",
    "    }\n",
    "    data = {'permission':permission}\n",
    "    res = requests.post('https://'+endpoint+'/meta/v2/data/'+uuid+'/pems/'+username, json=data, headers=headers,verify=False)\n",
    "    resp = json.loads(res.content)\n",
    "    return resp\n",
    "    "
   ]
  },
  {
   "cell_type": "code",
   "execution_count": null,
   "metadata": {},
   "outputs": [],
   "source": [
    "def getMetadataPems(token,uuid):\n",
    "    headers = {\n",
    "        'authorization': \"Bearer \" + token,\n",
    "        'content-type': \"application/json\",\n",
    "    }\n",
    "    res = requests.get('https://'+endpoint+'/meta/v2/data/'+uuid+'/pems/', headers=headers,verify=False)\n",
    "    resp = json.loads(res.content)\n",
    "    return resp"
   ]
  },
  {
   "cell_type": "code",
   "execution_count": null,
   "metadata": {},
   "outputs": [],
   "source": [
    "#load csv in a dataframe example and see dataframe\n",
    "df1 = pd.read_csv('GPS.csv')\n",
    "df1"
   ]
  },
  {
   "cell_type": "code",
   "execution_count": null,
   "metadata": {},
   "outputs": [],
   "source": [
    "#Parse a CSV file and convert it to JSON metadata documents\n",
    "\n",
    "#read in csv file to a pandas dataframe\n",
    "df1 = pd.read_csv('GPS.csv')\n",
    "\n",
    "#set static json body values and permsissions\n",
    "#users needs to exist in agave\n",
    "body={}\n",
    "pem1={}\n",
    "pem1['username']= 'seanbc'\n",
    "pem1['permission']='ALL'\n",
    "pem2={}\n",
    "pem2['username']= 'jgeis'\n",
    "pem2['permission']='ALL'\n",
    "pem4={}\n",
    "pem4['username']= 'ikewai-admin'\n",
    "pem4['permission']='ALL'\n",
    "pem5={}\n",
    "pem5['username']= 'public'\n",
    "pem5['permission']='READ'\n",
    "\n",
    "#the name field should be the larger document type we want - so this should be akin to the CSV file - we will use this for searching for these document types\n",
    "#note we shoudl use underscores instead of dashes in the name as some languages (like Python) can be restricted in the use of a dash donw the line.\n",
    "body['name'] = \"Micro_GPS\"\n",
    "\n",
    "#add our permissions to the document body so they are set at creation\n",
    "body['permissions']=[pem1,pem2,pem4,pem5]\n",
    "\n",
    "\n",
    "#should loop through each dataframe row convert to json \n",
    "i=0\n",
    "ls = [0,1,2]\n",
    "for i in df1.index:\n",
    "    j = df1.loc[i].to_json()\n",
    "    js = json.loads(j)\n",
    "    #This stores a GeoJSON object in the value.loc field - in Ike Wai this has a spatial index on it in mongodb\n",
    "    #ONLY DO THIS FOR georeferenced documents - so probably just one CSV\n",
    "    js['loc'] = {\"type\":\"Point\", \"coordinates\":[js['Longitude'],js['Lattitude']]}\n",
    "    body['value'] = js\n",
    "    body['geospatial']= True;\n",
    "    #preview our JSON document\n",
    "    print(body)\n",
    "    #create the document in Ike Wai - \n",
    "    #createMetadata(ike.token,json.dumps(body))\n",
    "    "
   ]
  },
  {
   "cell_type": "code",
   "execution_count": null,
   "metadata": {},
   "outputs": [],
   "source": []
  }
 ],
 "metadata": {
  "kernelspec": {
   "display_name": "Python 3 (ipykernel)",
   "language": "python",
   "name": "python3"
  },
  "language_info": {
   "codemirror_mode": {
    "name": "ipython",
    "version": 3
   },
   "file_extension": ".py",
   "mimetype": "text/x-python",
   "name": "python",
   "nbconvert_exporter": "python",
   "pygments_lexer": "ipython3",
   "version": "3.7.12"
  }
 },
 "nbformat": 4,
 "nbformat_minor": 4
}
